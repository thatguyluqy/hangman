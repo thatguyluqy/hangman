{
 "cells": [
  {
   "cell_type": "code",
   "execution_count": 1,
   "metadata": {},
   "outputs": [],
   "source": [
    "import random\n",
    "\n",
    "class Hangman:\n",
    "    def __init__(self,word_list,num_lives):\n",
    "        self.num_lives = num_lives(5)\n",
    "        self.word_list = [\"banana\",\"pear\",\"apple\",\"grape\",\"mango\",\"watermelon\",\"strawberry\",\"lychee\"]\n",
    "        "
   ]
  },
  {
   "cell_type": "code",
   "execution_count": null,
   "metadata": {},
   "outputs": [],
   "source": []
  }
 ],
 "metadata": {
  "kernelspec": {
   "display_name": "Python 3.11.0 64-bit",
   "language": "python",
   "name": "python3"
  },
  "language_info": {
   "codemirror_mode": {
    "name": "ipython",
    "version": 3
   },
   "file_extension": ".py",
   "mimetype": "text/x-python",
   "name": "python",
   "nbconvert_exporter": "python",
   "pygments_lexer": "ipython3",
   "version": "3.11.0"
  },
  "orig_nbformat": 4,
  "vscode": {
   "interpreter": {
    "hash": "f0dfaff4f9af35b6070ab4cb0f8381f3a9b5e7e7b3b1554c064d69372d1ebb20"
   }
  }
 },
 "nbformat": 4,
 "nbformat_minor": 2
}
