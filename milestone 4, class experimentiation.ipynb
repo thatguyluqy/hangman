{
 "cells": [
  {
   "cell_type": "code",
   "execution_count": 49,
   "metadata": {},
   "outputs": [],
   "source": [
    "import random\n",
    "\n",
    "class Hangman:\n",
    "    \n",
    "    def __init__(self,word_list,num_lives=5):\n",
    "        list_of_guesses = []\n",
    "        import random\n",
    "        self.word = random.choice(word_list)\n",
    "        self.word_list = word_list\n",
    "        self.num_lives = num_lives\n",
    "        self.word_guessed = self.word.replace(self.word[0:], \"\\\"-\\\",\"* (len(self.word)))\n",
    "\n",
    "     "
   ]
  },
  {
   "cell_type": "code",
   "execution_count": 51,
   "metadata": {},
   "outputs": [
    {
     "name": "stdout",
     "output_type": "stream",
     "text": [
      "banana\n",
      "\"-\",\"-\",\"-\",\"-\",\"-\",\"-\",\n",
      "strawberry\n",
      "\"-\",\"-\",\"-\",\"-\",\"-\",\"-\",\"-\",\"-\",\"-\",\"-\",\n"
     ]
    }
   ],
   "source": [
    "game1 = Hangman([\"banana\",\"pear\",\"apple\",\"grape\",\"mango\",\"watermelon\",\"strawberry\",\"lychee\"])\n",
    "print(game1.word)\n",
    "print(game1.word_guessed)\n",
    "        \n",
    "\n",
    "\n",
    "game2 = Hangman([\"banana\",\"pear\",\"apple\",\"grape\",\"mango\",\"watermelon\",\"strawberry\",\"lychee\"])\n",
    "print(game2.word)\n",
    "print(game2.word_guessed)\n",
    "\n"
   ]
  },
  {
   "cell_type": "code",
   "execution_count": 100,
   "metadata": {},
   "outputs": [
    {
     "data": {
      "text/plain": [
       "['l', 'e', 'o', 'h']"
      ]
     },
     "metadata": {},
     "output_type": "display_data"
    },
    {
     "ename": "TypeError",
     "evalue": "'set' object is not callable",
     "output_type": "error",
     "traceback": [
      "\u001b[1;31m---------------------------------------------------------------------------\u001b[0m",
      "\u001b[1;31mTypeError\u001b[0m                                 Traceback (most recent call last)",
      "Cell \u001b[1;32mIn[100], line 8\u001b[0m\n\u001b[0;32m      6\u001b[0m i \u001b[39m=\u001b[39m guess\n\u001b[0;32m      7\u001b[0m \u001b[39mif\u001b[39;00m i \u001b[39min\u001b[39;00m word_unique_list:\n\u001b[1;32m----> 8\u001b[0m     \u001b[39mprint\u001b[39;49m (\u001b[39m\"\u001b[39;49m\u001b[39mgood guess\u001b[39;49m\u001b[39m\"\u001b[39;49m)\n\u001b[0;32m     10\u001b[0m \u001b[39melse\u001b[39;00m: \n\u001b[0;32m     11\u001b[0m     \u001b[39mprint\u001b[39m(\u001b[39m\"\u001b[39m\u001b[39mbad guess\u001b[39m\u001b[39m\"\u001b[39m)\n",
      "\u001b[1;31mTypeError\u001b[0m: 'set' object is not callable"
     ]
    }
   ],
   "source": [
    "\n",
    "word = \"hello\"\n",
    "word_unique = list(set('hello'))\n",
    "display(word_unique)\n",
    "guess = input (\"guess a single letter\")\n",
    "\n",
    "i = guess\n",
    "if i in word_unique_list:\n",
    "    print (\"good guess\")\n",
    "\n",
    "else: \n",
    "    print(\"bad guess\")\n",
    "\n"
   ]
  },
  {
   "cell_type": "code",
   "execution_count": null,
   "metadata": {},
   "outputs": [],
   "source": []
  }
 ],
 "metadata": {
  "kernelspec": {
   "display_name": "Python 3.11.0 64-bit",
   "language": "python",
   "name": "python3"
  },
  "language_info": {
   "codemirror_mode": {
    "name": "ipython",
    "version": 3
   },
   "file_extension": ".py",
   "mimetype": "text/x-python",
   "name": "python",
   "nbconvert_exporter": "python",
   "pygments_lexer": "ipython3",
   "version": "3.11.0"
  },
  "orig_nbformat": 4,
  "vscode": {
   "interpreter": {
    "hash": "f0dfaff4f9af35b6070ab4cb0f8381f3a9b5e7e7b3b1554c064d69372d1ebb20"
   }
  }
 },
 "nbformat": 4,
 "nbformat_minor": 2
}
