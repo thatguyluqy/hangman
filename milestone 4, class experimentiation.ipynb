{
 "cells": [
  {
   "cell_type": "code",
   "execution_count": 18,
   "metadata": {},
   "outputs": [],
   "source": [
    "\n",
    "\n",
    "class Hangman:\n",
    "    \n",
    "    def __init__(self,word_list,num_lives=5):\n",
    "        list_of_guesses = []\n",
    "        import random\n",
    "        self.word = random.choice(word_list)\n",
    "        self.word_list = word_list\n",
    "        self.num_lives = num_lives\n",
    "        self.word_guessed = self.word.replace(self.word[0:], \"\\\"-\\\",\"* (len(self.word)))\n",
    "        self.num_list = \"\".join(set(self.word)).lower()\n",
    "        self.list_of_guesses = list_of_guesses\n",
    "    \n",
    "    def ask_for_input(self):\n",
    "        guess = \"\"\n",
    "        while True:\n",
    "            self.guess = input(\" Enter a single letter: \")\n",
    "            if len(self.guess) == 1 and self.guess.isalpha():\n",
    "                 return guess\n",
    "            elif self.guess in self.list_of_guesses:\n",
    "                 print (\"You already tried that letter!.\")\n",
    "            else:\n",
    "                 print(\"Invalid letter. Please, enter a single alphabetical character.\")\n",
    "    \n",
    "    def check_guess(self):\n",
    "        if self.guess in self.word:\n",
    "            print(f\"Good guess! {guess} is in the word.\")\n",
    "        else:\n",
    "            print()\n",
    "\n",
    "\n",
    "             \n",
    "\n",
    "\n",
    "     "
   ]
  },
  {
   "cell_type": "code",
   "execution_count": 20,
   "metadata": {},
   "outputs": [
    {
     "name": "stdout",
     "output_type": "stream",
     "text": [
      "Invalid letter. Please, enter a single alphabetical character.\n",
      "Invalid letter. Please, enter a single alphabetical character.\n",
      "Invalid letter. Please, enter a single alphabetical character.\n"
     ]
    },
    {
     "data": {
      "text/plain": [
       "''"
      ]
     },
     "execution_count": 20,
     "metadata": {},
     "output_type": "execute_result"
    }
   ],
   "source": [
    "\n",
    "        \n",
    "\n",
    "\n",
    "game2 = Hangman([\"banana\",\"pear\",\"apple\",\"grape\",\"mango\",\"watermelon\",\"strawberry\",\"lychee\"])\n",
    "game2.ask_for_input()\n",
    "\n"
   ]
  },
  {
   "cell_type": "code",
   "execution_count": null,
   "metadata": {},
   "outputs": [],
   "source": []
  }
 ],
 "metadata": {
  "kernelspec": {
   "display_name": "Python 3.11.0 64-bit",
   "language": "python",
   "name": "python3"
  },
  "language_info": {
   "codemirror_mode": {
    "name": "ipython",
    "version": 3
   },
   "file_extension": ".py",
   "mimetype": "text/x-python",
   "name": "python",
   "nbconvert_exporter": "python",
   "pygments_lexer": "ipython3",
   "version": "3.11.0"
  },
  "orig_nbformat": 4,
  "vscode": {
   "interpreter": {
    "hash": "f0dfaff4f9af35b6070ab4cb0f8381f3a9b5e7e7b3b1554c064d69372d1ebb20"
   }
  }
 },
 "nbformat": 4,
 "nbformat_minor": 2
}
